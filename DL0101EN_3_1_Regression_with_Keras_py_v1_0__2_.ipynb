{
  "nbformat": 4,
  "nbformat_minor": 0,
  "metadata": {
    "kernelspec": {
      "display_name": "Python",
      "language": "python",
      "name": "conda-env-python-py"
    },
    "language_info": {
      "codemirror_mode": {
        "name": "ipython",
        "version": 3
      },
      "file_extension": ".py",
      "mimetype": "text/x-python",
      "name": "python",
      "nbconvert_exporter": "python",
      "pygments_lexer": "ipython3",
      "version": "3.6.7"
    },
    "colab": {
      "name": "DL0101EN-3-1-Regression-with-Keras-py-v1.0__2_.ipynb",
      "provenance": [],
      "include_colab_link": true
    }
  },
  "cells": [
    {
      "cell_type": "markdown",
      "metadata": {
        "id": "view-in-github",
        "colab_type": "text"
      },
      "source": [
        "<a href=\"https://colab.research.google.com/github/zainraj50/DeepLearning-with-keras-/blob/master/DL0101EN_3_1_Regression_with_Keras_py_v1_0__2_.ipynb\" target=\"_parent\"><img src=\"https://colab.research.google.com/assets/colab-badge.svg\" alt=\"Open In Colab\"/></a>"
      ]
    },
    {
      "cell_type": "markdown",
      "metadata": {
        "button": false,
        "deletable": true,
        "new_sheet": false,
        "run_control": {
          "read_only": false
        },
        "id": "p0309xcNI1Sy"
      },
      "source": [
        "<a href=\"https://cognitiveclass.ai\"><img src = \"https://s3-api.us-geo.objectstorage.softlayer.net/cf-courses-data/CognitiveClass/Logos/organization_logo/organization_logo.png\" width = 400> </a>\n",
        "\n",
        "<h1 align=center><font size = 5>Regression Models with Keras</font></h1>\n"
      ]
    },
    {
      "cell_type": "markdown",
      "metadata": {
        "button": false,
        "deletable": true,
        "new_sheet": false,
        "run_control": {
          "read_only": false
        },
        "id": "JfsAIHTMI1S2"
      },
      "source": [
        "## Introduction\n"
      ]
    },
    {
      "cell_type": "markdown",
      "metadata": {
        "button": false,
        "deletable": true,
        "new_sheet": false,
        "run_control": {
          "read_only": false
        },
        "id": "pdhb3_5QI1S6"
      },
      "source": [
        "As we discussed in the videos, despite the popularity of more powerful libraries such as PyToch and TensorFlow, they are not easy to use and have a steep learning curve. So, for people who are just starting to learn deep learning, there is no better library to use other than the Keras library. \n",
        "\n",
        "Keras is a high-level API for building deep learning models. It has gained favor for its ease of use and syntactic simplicity facilitating fast development. As you will see in this lab and the other labs in this course, building a very complex deep learning network can be achieved with Keras with only few lines of code. You will appreciate Keras even more, once you learn how to build deep models using PyTorch and TensorFlow in the other courses.\n",
        "\n",
        "So, in this lab, you will learn how to use the Keras library to build a regression model.\n"
      ]
    },
    {
      "cell_type": "markdown",
      "metadata": {
        "id": "rCux7FGJI1TB"
      },
      "source": [
        "<h2>Regression Models with Keras</h2>\n",
        "\n",
        "<h3>Objective for this Notebook<h3>    \n",
        "<h5> 1. How to use the Keras library to build a regression model.</h5>\n",
        "<h5> 2. Download and Clean dataset </h5>\n",
        "<h5> 3. Build a Neural Network </h5>\n",
        "<h5> 4. Train and Test the Network. </h5>     \n"
      ]
    },
    {
      "cell_type": "markdown",
      "metadata": {
        "button": false,
        "deletable": true,
        "new_sheet": false,
        "run_control": {
          "read_only": false
        },
        "id": "zOqzTs8cI1TH"
      },
      "source": [
        "## Table of Contents\n",
        "\n",
        "<div class=\"alert alert-block alert-info\" style=\"margin-top: 20px\">\n",
        "\n",
        "<font size = 3>\n",
        "    \n",
        "1. <a href=\"#item31\">Download and Clean Dataset</a>  \n",
        "2. <a href=\"#item32\">Import Keras</a>  \n",
        "3. <a href=\"#item33\">Build a Neural Network</a>  \n",
        "4. <a href=\"#item34\">Train and Test the Network</a>  \n",
        "\n",
        "</font>\n",
        "</div>\n"
      ]
    },
    {
      "cell_type": "markdown",
      "metadata": {
        "button": false,
        "deletable": true,
        "new_sheet": false,
        "run_control": {
          "read_only": false
        },
        "id": "XEgvjYDzI1TJ"
      },
      "source": [
        "<a id=\"item31\"></a>\n"
      ]
    },
    {
      "cell_type": "markdown",
      "metadata": {
        "button": false,
        "deletable": true,
        "new_sheet": false,
        "run_control": {
          "read_only": false
        },
        "id": "iFswmY3YI1TM"
      },
      "source": [
        "## Download and Clean Dataset\n"
      ]
    },
    {
      "cell_type": "markdown",
      "metadata": {
        "button": false,
        "deletable": true,
        "new_sheet": false,
        "run_control": {
          "read_only": false
        },
        "id": "whs_Y57cI1TV"
      },
      "source": [
        "Let's start by importing the <em>pandas</em> and the Numpy libraries.\n"
      ]
    },
    {
      "cell_type": "code",
      "metadata": {
        "button": false,
        "deletable": true,
        "new_sheet": false,
        "run_control": {
          "read_only": false
        },
        "id": "ljQKwb10I1TY"
      },
      "source": [
        "import pandas as pd\n",
        "import numpy as np"
      ],
      "execution_count": 1,
      "outputs": []
    },
    {
      "cell_type": "markdown",
      "metadata": {
        "button": false,
        "deletable": true,
        "new_sheet": false,
        "run_control": {
          "read_only": false
        },
        "id": "QKMlvzRLI1To"
      },
      "source": [
        "We will be playing around with the same dataset that we used in the videos.\n",
        "\n",
        "<strong>The dataset is about the compressive strength of different samples of concrete based on the volumes of the different ingredients that were used to make them. Ingredients include:</strong>\n",
        "\n",
        "<strong>1. Cement</strong>\n",
        "\n",
        "<strong>2. Blast Furnace Slag</strong>\n",
        "\n",
        "<strong>3. Fly Ash</strong>\n",
        "\n",
        "<strong>4. Water</strong>\n",
        "\n",
        "<strong>5. Superplasticizer</strong>\n",
        "\n",
        "<strong>6. Coarse Aggregate</strong>\n",
        "\n",
        "<strong>7. Fine Aggregate</strong>\n"
      ]
    },
    {
      "cell_type": "markdown",
      "metadata": {
        "button": false,
        "deletable": true,
        "new_sheet": false,
        "run_control": {
          "read_only": false
        },
        "id": "EjyPKxwtI1Tr"
      },
      "source": [
        "Let's download the data and read it into a <em>pandas</em> dataframe.\n"
      ]
    },
    {
      "cell_type": "code",
      "metadata": {
        "button": false,
        "deletable": true,
        "new_sheet": false,
        "run_control": {
          "read_only": false
        },
        "id": "6o9bIa8KI1Tw",
        "outputId": "460d1a61-8c7b-4408-c2a9-0b824f309e80",
        "colab": {
          "base_uri": "https://localhost:8080/",
          "height": 206
        }
      },
      "source": [
        "concrete_data = pd.read_csv('https://s3-api.us-geo.objectstorage.softlayer.net/cf-courses-data/CognitiveClass/DL0101EN/labs/data/concrete_data.csv')\n",
        "concrete_data.head()"
      ],
      "execution_count": 2,
      "outputs": [
        {
          "output_type": "execute_result",
          "data": {
            "text/html": [
              "<div>\n",
              "<style scoped>\n",
              "    .dataframe tbody tr th:only-of-type {\n",
              "        vertical-align: middle;\n",
              "    }\n",
              "\n",
              "    .dataframe tbody tr th {\n",
              "        vertical-align: top;\n",
              "    }\n",
              "\n",
              "    .dataframe thead th {\n",
              "        text-align: right;\n",
              "    }\n",
              "</style>\n",
              "<table border=\"1\" class=\"dataframe\">\n",
              "  <thead>\n",
              "    <tr style=\"text-align: right;\">\n",
              "      <th></th>\n",
              "      <th>Cement</th>\n",
              "      <th>Blast Furnace Slag</th>\n",
              "      <th>Fly Ash</th>\n",
              "      <th>Water</th>\n",
              "      <th>Superplasticizer</th>\n",
              "      <th>Coarse Aggregate</th>\n",
              "      <th>Fine Aggregate</th>\n",
              "      <th>Age</th>\n",
              "      <th>Strength</th>\n",
              "    </tr>\n",
              "  </thead>\n",
              "  <tbody>\n",
              "    <tr>\n",
              "      <th>0</th>\n",
              "      <td>540.0</td>\n",
              "      <td>0.0</td>\n",
              "      <td>0.0</td>\n",
              "      <td>162.0</td>\n",
              "      <td>2.5</td>\n",
              "      <td>1040.0</td>\n",
              "      <td>676.0</td>\n",
              "      <td>28</td>\n",
              "      <td>79.99</td>\n",
              "    </tr>\n",
              "    <tr>\n",
              "      <th>1</th>\n",
              "      <td>540.0</td>\n",
              "      <td>0.0</td>\n",
              "      <td>0.0</td>\n",
              "      <td>162.0</td>\n",
              "      <td>2.5</td>\n",
              "      <td>1055.0</td>\n",
              "      <td>676.0</td>\n",
              "      <td>28</td>\n",
              "      <td>61.89</td>\n",
              "    </tr>\n",
              "    <tr>\n",
              "      <th>2</th>\n",
              "      <td>332.5</td>\n",
              "      <td>142.5</td>\n",
              "      <td>0.0</td>\n",
              "      <td>228.0</td>\n",
              "      <td>0.0</td>\n",
              "      <td>932.0</td>\n",
              "      <td>594.0</td>\n",
              "      <td>270</td>\n",
              "      <td>40.27</td>\n",
              "    </tr>\n",
              "    <tr>\n",
              "      <th>3</th>\n",
              "      <td>332.5</td>\n",
              "      <td>142.5</td>\n",
              "      <td>0.0</td>\n",
              "      <td>228.0</td>\n",
              "      <td>0.0</td>\n",
              "      <td>932.0</td>\n",
              "      <td>594.0</td>\n",
              "      <td>365</td>\n",
              "      <td>41.05</td>\n",
              "    </tr>\n",
              "    <tr>\n",
              "      <th>4</th>\n",
              "      <td>198.6</td>\n",
              "      <td>132.4</td>\n",
              "      <td>0.0</td>\n",
              "      <td>192.0</td>\n",
              "      <td>0.0</td>\n",
              "      <td>978.4</td>\n",
              "      <td>825.5</td>\n",
              "      <td>360</td>\n",
              "      <td>44.30</td>\n",
              "    </tr>\n",
              "  </tbody>\n",
              "</table>\n",
              "</div>"
            ],
            "text/plain": [
              "   Cement  Blast Furnace Slag  Fly Ash  ...  Fine Aggregate  Age  Strength\n",
              "0   540.0                 0.0      0.0  ...           676.0   28     79.99\n",
              "1   540.0                 0.0      0.0  ...           676.0   28     61.89\n",
              "2   332.5               142.5      0.0  ...           594.0  270     40.27\n",
              "3   332.5               142.5      0.0  ...           594.0  365     41.05\n",
              "4   198.6               132.4      0.0  ...           825.5  360     44.30\n",
              "\n",
              "[5 rows x 9 columns]"
            ]
          },
          "metadata": {
            "tags": []
          },
          "execution_count": 2
        }
      ]
    },
    {
      "cell_type": "markdown",
      "metadata": {
        "button": false,
        "deletable": true,
        "new_sheet": false,
        "run_control": {
          "read_only": false
        },
        "id": "sCCuC2AnI1T7"
      },
      "source": [
        "So the first concrete sample has 540 cubic meter of cement, 0 cubic meter of blast furnace slag, 0 cubic meter of fly ash, 162 cubic meter of water, 2.5 cubic meter of superplaticizer, 1040 cubic meter of coarse aggregate, 676 cubic meter of fine aggregate. Such a concrete mix which is 28 days old, has a compressive strength of 79.99 MPa. \n"
      ]
    },
    {
      "cell_type": "markdown",
      "metadata": {
        "button": false,
        "deletable": true,
        "new_sheet": false,
        "run_control": {
          "read_only": false
        },
        "id": "fJbI7JS0I1T-"
      },
      "source": [
        "#### Let's check how many data points we have.\n"
      ]
    },
    {
      "cell_type": "code",
      "metadata": {
        "button": false,
        "deletable": true,
        "new_sheet": false,
        "run_control": {
          "read_only": false
        },
        "id": "6tbwaA8nI1UD",
        "outputId": "d2028c64-a522-46d0-c0f7-bc5d7584c154",
        "colab": {
          "base_uri": "https://localhost:8080/",
          "height": 35
        }
      },
      "source": [
        "concrete_data.shape"
      ],
      "execution_count": 3,
      "outputs": [
        {
          "output_type": "execute_result",
          "data": {
            "text/plain": [
              "(1030, 9)"
            ]
          },
          "metadata": {
            "tags": []
          },
          "execution_count": 3
        }
      ]
    },
    {
      "cell_type": "markdown",
      "metadata": {
        "button": false,
        "deletable": true,
        "new_sheet": false,
        "run_control": {
          "read_only": false
        },
        "id": "JtcT8oGYI1UM"
      },
      "source": [
        "So, there are approximately 1000 samples to train our model on. Because of the few samples, we have to be careful not to overfit the training data.\n"
      ]
    },
    {
      "cell_type": "markdown",
      "metadata": {
        "button": false,
        "deletable": true,
        "new_sheet": false,
        "run_control": {
          "read_only": false
        },
        "id": "gWitbIwkI1UO"
      },
      "source": [
        "Let's check the dataset for any missing values.\n"
      ]
    },
    {
      "cell_type": "code",
      "metadata": {
        "button": false,
        "deletable": true,
        "new_sheet": false,
        "run_control": {
          "read_only": false
        },
        "id": "4mrcmb3kI1UU",
        "outputId": "3a2fe456-9ce4-44a1-a914-8fc9baea368b",
        "colab": {
          "base_uri": "https://localhost:8080/",
          "height": 300
        }
      },
      "source": [
        "concrete_data.describe()"
      ],
      "execution_count": 4,
      "outputs": [
        {
          "output_type": "execute_result",
          "data": {
            "text/html": [
              "<div>\n",
              "<style scoped>\n",
              "    .dataframe tbody tr th:only-of-type {\n",
              "        vertical-align: middle;\n",
              "    }\n",
              "\n",
              "    .dataframe tbody tr th {\n",
              "        vertical-align: top;\n",
              "    }\n",
              "\n",
              "    .dataframe thead th {\n",
              "        text-align: right;\n",
              "    }\n",
              "</style>\n",
              "<table border=\"1\" class=\"dataframe\">\n",
              "  <thead>\n",
              "    <tr style=\"text-align: right;\">\n",
              "      <th></th>\n",
              "      <th>Cement</th>\n",
              "      <th>Blast Furnace Slag</th>\n",
              "      <th>Fly Ash</th>\n",
              "      <th>Water</th>\n",
              "      <th>Superplasticizer</th>\n",
              "      <th>Coarse Aggregate</th>\n",
              "      <th>Fine Aggregate</th>\n",
              "      <th>Age</th>\n",
              "      <th>Strength</th>\n",
              "    </tr>\n",
              "  </thead>\n",
              "  <tbody>\n",
              "    <tr>\n",
              "      <th>count</th>\n",
              "      <td>1030.000000</td>\n",
              "      <td>1030.000000</td>\n",
              "      <td>1030.000000</td>\n",
              "      <td>1030.000000</td>\n",
              "      <td>1030.000000</td>\n",
              "      <td>1030.000000</td>\n",
              "      <td>1030.000000</td>\n",
              "      <td>1030.000000</td>\n",
              "      <td>1030.000000</td>\n",
              "    </tr>\n",
              "    <tr>\n",
              "      <th>mean</th>\n",
              "      <td>281.167864</td>\n",
              "      <td>73.895825</td>\n",
              "      <td>54.188350</td>\n",
              "      <td>181.567282</td>\n",
              "      <td>6.204660</td>\n",
              "      <td>972.918932</td>\n",
              "      <td>773.580485</td>\n",
              "      <td>45.662136</td>\n",
              "      <td>35.817961</td>\n",
              "    </tr>\n",
              "    <tr>\n",
              "      <th>std</th>\n",
              "      <td>104.506364</td>\n",
              "      <td>86.279342</td>\n",
              "      <td>63.997004</td>\n",
              "      <td>21.354219</td>\n",
              "      <td>5.973841</td>\n",
              "      <td>77.753954</td>\n",
              "      <td>80.175980</td>\n",
              "      <td>63.169912</td>\n",
              "      <td>16.705742</td>\n",
              "    </tr>\n",
              "    <tr>\n",
              "      <th>min</th>\n",
              "      <td>102.000000</td>\n",
              "      <td>0.000000</td>\n",
              "      <td>0.000000</td>\n",
              "      <td>121.800000</td>\n",
              "      <td>0.000000</td>\n",
              "      <td>801.000000</td>\n",
              "      <td>594.000000</td>\n",
              "      <td>1.000000</td>\n",
              "      <td>2.330000</td>\n",
              "    </tr>\n",
              "    <tr>\n",
              "      <th>25%</th>\n",
              "      <td>192.375000</td>\n",
              "      <td>0.000000</td>\n",
              "      <td>0.000000</td>\n",
              "      <td>164.900000</td>\n",
              "      <td>0.000000</td>\n",
              "      <td>932.000000</td>\n",
              "      <td>730.950000</td>\n",
              "      <td>7.000000</td>\n",
              "      <td>23.710000</td>\n",
              "    </tr>\n",
              "    <tr>\n",
              "      <th>50%</th>\n",
              "      <td>272.900000</td>\n",
              "      <td>22.000000</td>\n",
              "      <td>0.000000</td>\n",
              "      <td>185.000000</td>\n",
              "      <td>6.400000</td>\n",
              "      <td>968.000000</td>\n",
              "      <td>779.500000</td>\n",
              "      <td>28.000000</td>\n",
              "      <td>34.445000</td>\n",
              "    </tr>\n",
              "    <tr>\n",
              "      <th>75%</th>\n",
              "      <td>350.000000</td>\n",
              "      <td>142.950000</td>\n",
              "      <td>118.300000</td>\n",
              "      <td>192.000000</td>\n",
              "      <td>10.200000</td>\n",
              "      <td>1029.400000</td>\n",
              "      <td>824.000000</td>\n",
              "      <td>56.000000</td>\n",
              "      <td>46.135000</td>\n",
              "    </tr>\n",
              "    <tr>\n",
              "      <th>max</th>\n",
              "      <td>540.000000</td>\n",
              "      <td>359.400000</td>\n",
              "      <td>200.100000</td>\n",
              "      <td>247.000000</td>\n",
              "      <td>32.200000</td>\n",
              "      <td>1145.000000</td>\n",
              "      <td>992.600000</td>\n",
              "      <td>365.000000</td>\n",
              "      <td>82.600000</td>\n",
              "    </tr>\n",
              "  </tbody>\n",
              "</table>\n",
              "</div>"
            ],
            "text/plain": [
              "            Cement  Blast Furnace Slag  ...          Age     Strength\n",
              "count  1030.000000         1030.000000  ...  1030.000000  1030.000000\n",
              "mean    281.167864           73.895825  ...    45.662136    35.817961\n",
              "std     104.506364           86.279342  ...    63.169912    16.705742\n",
              "min     102.000000            0.000000  ...     1.000000     2.330000\n",
              "25%     192.375000            0.000000  ...     7.000000    23.710000\n",
              "50%     272.900000           22.000000  ...    28.000000    34.445000\n",
              "75%     350.000000          142.950000  ...    56.000000    46.135000\n",
              "max     540.000000          359.400000  ...   365.000000    82.600000\n",
              "\n",
              "[8 rows x 9 columns]"
            ]
          },
          "metadata": {
            "tags": []
          },
          "execution_count": 4
        }
      ]
    },
    {
      "cell_type": "code",
      "metadata": {
        "button": false,
        "deletable": true,
        "new_sheet": false,
        "run_control": {
          "read_only": false
        },
        "id": "SiQDaxupI1Ud",
        "outputId": "49ff5075-0184-4c94-8222-733f60b42c07",
        "colab": {
          "base_uri": "https://localhost:8080/",
          "height": 201
        }
      },
      "source": [
        "concrete_data.isnull().sum()"
      ],
      "execution_count": 5,
      "outputs": [
        {
          "output_type": "execute_result",
          "data": {
            "text/plain": [
              "Cement                0\n",
              "Blast Furnace Slag    0\n",
              "Fly Ash               0\n",
              "Water                 0\n",
              "Superplasticizer      0\n",
              "Coarse Aggregate      0\n",
              "Fine Aggregate        0\n",
              "Age                   0\n",
              "Strength              0\n",
              "dtype: int64"
            ]
          },
          "metadata": {
            "tags": []
          },
          "execution_count": 5
        }
      ]
    },
    {
      "cell_type": "markdown",
      "metadata": {
        "button": false,
        "deletable": true,
        "new_sheet": false,
        "run_control": {
          "read_only": false
        },
        "id": "AdpL6fESI1Up"
      },
      "source": [
        "The data looks very clean and is ready to be used to build our model.\n"
      ]
    },
    {
      "cell_type": "markdown",
      "metadata": {
        "button": false,
        "deletable": true,
        "new_sheet": false,
        "run_control": {
          "read_only": false
        },
        "id": "A2sYkaFYI1Ur"
      },
      "source": [
        "#### Split data into predictors and target\n"
      ]
    },
    {
      "cell_type": "markdown",
      "metadata": {
        "id": "b8Qnr9zII1Us"
      },
      "source": [
        "The target variable in this problem is the concrete sample strength. Therefore, our predictors will be all the other columns.\n"
      ]
    },
    {
      "cell_type": "code",
      "metadata": {
        "button": false,
        "deletable": true,
        "new_sheet": false,
        "run_control": {
          "read_only": false
        },
        "id": "TGTwiELAI1Uu"
      },
      "source": [
        "concrete_data_columns = concrete_data.columns\n",
        "\n",
        "predictors = concrete_data[concrete_data_columns[concrete_data_columns != 'Strength']] # all columns except Strength\n",
        "target = concrete_data['Strength'] # Strength column"
      ],
      "execution_count": 6,
      "outputs": []
    },
    {
      "cell_type": "markdown",
      "metadata": {
        "button": false,
        "deletable": true,
        "new_sheet": false,
        "run_control": {
          "read_only": false
        },
        "id": "2dNmsWilI1U7"
      },
      "source": [
        "<a id=\"item2\"></a>\n"
      ]
    },
    {
      "cell_type": "markdown",
      "metadata": {
        "button": false,
        "deletable": true,
        "new_sheet": false,
        "run_control": {
          "read_only": false
        },
        "id": "GVnbfCFmI1U-"
      },
      "source": [
        "Let's do a quick sanity check of the predictors and the target dataframes.\n"
      ]
    },
    {
      "cell_type": "code",
      "metadata": {
        "button": false,
        "deletable": true,
        "new_sheet": false,
        "run_control": {
          "read_only": false
        },
        "id": "Ig16Y6GKI1U_",
        "outputId": "8ae5bc9a-02ca-41ac-bbe9-d6b006f40d38",
        "colab": {
          "base_uri": "https://localhost:8080/",
          "height": 206
        }
      },
      "source": [
        "predictors.head()"
      ],
      "execution_count": 7,
      "outputs": [
        {
          "output_type": "execute_result",
          "data": {
            "text/html": [
              "<div>\n",
              "<style scoped>\n",
              "    .dataframe tbody tr th:only-of-type {\n",
              "        vertical-align: middle;\n",
              "    }\n",
              "\n",
              "    .dataframe tbody tr th {\n",
              "        vertical-align: top;\n",
              "    }\n",
              "\n",
              "    .dataframe thead th {\n",
              "        text-align: right;\n",
              "    }\n",
              "</style>\n",
              "<table border=\"1\" class=\"dataframe\">\n",
              "  <thead>\n",
              "    <tr style=\"text-align: right;\">\n",
              "      <th></th>\n",
              "      <th>Cement</th>\n",
              "      <th>Blast Furnace Slag</th>\n",
              "      <th>Fly Ash</th>\n",
              "      <th>Water</th>\n",
              "      <th>Superplasticizer</th>\n",
              "      <th>Coarse Aggregate</th>\n",
              "      <th>Fine Aggregate</th>\n",
              "      <th>Age</th>\n",
              "    </tr>\n",
              "  </thead>\n",
              "  <tbody>\n",
              "    <tr>\n",
              "      <th>0</th>\n",
              "      <td>540.0</td>\n",
              "      <td>0.0</td>\n",
              "      <td>0.0</td>\n",
              "      <td>162.0</td>\n",
              "      <td>2.5</td>\n",
              "      <td>1040.0</td>\n",
              "      <td>676.0</td>\n",
              "      <td>28</td>\n",
              "    </tr>\n",
              "    <tr>\n",
              "      <th>1</th>\n",
              "      <td>540.0</td>\n",
              "      <td>0.0</td>\n",
              "      <td>0.0</td>\n",
              "      <td>162.0</td>\n",
              "      <td>2.5</td>\n",
              "      <td>1055.0</td>\n",
              "      <td>676.0</td>\n",
              "      <td>28</td>\n",
              "    </tr>\n",
              "    <tr>\n",
              "      <th>2</th>\n",
              "      <td>332.5</td>\n",
              "      <td>142.5</td>\n",
              "      <td>0.0</td>\n",
              "      <td>228.0</td>\n",
              "      <td>0.0</td>\n",
              "      <td>932.0</td>\n",
              "      <td>594.0</td>\n",
              "      <td>270</td>\n",
              "    </tr>\n",
              "    <tr>\n",
              "      <th>3</th>\n",
              "      <td>332.5</td>\n",
              "      <td>142.5</td>\n",
              "      <td>0.0</td>\n",
              "      <td>228.0</td>\n",
              "      <td>0.0</td>\n",
              "      <td>932.0</td>\n",
              "      <td>594.0</td>\n",
              "      <td>365</td>\n",
              "    </tr>\n",
              "    <tr>\n",
              "      <th>4</th>\n",
              "      <td>198.6</td>\n",
              "      <td>132.4</td>\n",
              "      <td>0.0</td>\n",
              "      <td>192.0</td>\n",
              "      <td>0.0</td>\n",
              "      <td>978.4</td>\n",
              "      <td>825.5</td>\n",
              "      <td>360</td>\n",
              "    </tr>\n",
              "  </tbody>\n",
              "</table>\n",
              "</div>"
            ],
            "text/plain": [
              "   Cement  Blast Furnace Slag  Fly Ash  ...  Coarse Aggregate  Fine Aggregate  Age\n",
              "0   540.0                 0.0      0.0  ...            1040.0           676.0   28\n",
              "1   540.0                 0.0      0.0  ...            1055.0           676.0   28\n",
              "2   332.5               142.5      0.0  ...             932.0           594.0  270\n",
              "3   332.5               142.5      0.0  ...             932.0           594.0  365\n",
              "4   198.6               132.4      0.0  ...             978.4           825.5  360\n",
              "\n",
              "[5 rows x 8 columns]"
            ]
          },
          "metadata": {
            "tags": []
          },
          "execution_count": 7
        }
      ]
    },
    {
      "cell_type": "code",
      "metadata": {
        "button": false,
        "deletable": true,
        "new_sheet": false,
        "run_control": {
          "read_only": false
        },
        "id": "R12yWgcPI1VK",
        "outputId": "9b170a10-c9fb-49f3-b64e-73f728514ddb",
        "colab": {
          "base_uri": "https://localhost:8080/",
          "height": 127
        }
      },
      "source": [
        "target.head()"
      ],
      "execution_count": 8,
      "outputs": [
        {
          "output_type": "execute_result",
          "data": {
            "text/plain": [
              "0    79.99\n",
              "1    61.89\n",
              "2    40.27\n",
              "3    41.05\n",
              "4    44.30\n",
              "Name: Strength, dtype: float64"
            ]
          },
          "metadata": {
            "tags": []
          },
          "execution_count": 8
        }
      ]
    },
    {
      "cell_type": "markdown",
      "metadata": {
        "button": false,
        "deletable": true,
        "new_sheet": false,
        "run_control": {
          "read_only": false
        },
        "id": "z6EDVgoaI1VU"
      },
      "source": [
        "Finally, the last step is to normalize the data by substracting the mean and dividing by the standard deviation.\n"
      ]
    },
    {
      "cell_type": "code",
      "metadata": {
        "button": false,
        "deletable": true,
        "new_sheet": false,
        "run_control": {
          "read_only": false
        },
        "id": "4TwWcNciI1VX",
        "outputId": "64df86df-fc34-48f1-8c11-dff7d96f1d37",
        "colab": {
          "base_uri": "https://localhost:8080/",
          "height": 206
        }
      },
      "source": [
        "predictors_norm = (predictors - predictors.mean()) / predictors.std()\n",
        "predictors_norm.head()"
      ],
      "execution_count": 9,
      "outputs": [
        {
          "output_type": "execute_result",
          "data": {
            "text/html": [
              "<div>\n",
              "<style scoped>\n",
              "    .dataframe tbody tr th:only-of-type {\n",
              "        vertical-align: middle;\n",
              "    }\n",
              "\n",
              "    .dataframe tbody tr th {\n",
              "        vertical-align: top;\n",
              "    }\n",
              "\n",
              "    .dataframe thead th {\n",
              "        text-align: right;\n",
              "    }\n",
              "</style>\n",
              "<table border=\"1\" class=\"dataframe\">\n",
              "  <thead>\n",
              "    <tr style=\"text-align: right;\">\n",
              "      <th></th>\n",
              "      <th>Cement</th>\n",
              "      <th>Blast Furnace Slag</th>\n",
              "      <th>Fly Ash</th>\n",
              "      <th>Water</th>\n",
              "      <th>Superplasticizer</th>\n",
              "      <th>Coarse Aggregate</th>\n",
              "      <th>Fine Aggregate</th>\n",
              "      <th>Age</th>\n",
              "    </tr>\n",
              "  </thead>\n",
              "  <tbody>\n",
              "    <tr>\n",
              "      <th>0</th>\n",
              "      <td>2.476712</td>\n",
              "      <td>-0.856472</td>\n",
              "      <td>-0.846733</td>\n",
              "      <td>-0.916319</td>\n",
              "      <td>-0.620147</td>\n",
              "      <td>0.862735</td>\n",
              "      <td>-1.217079</td>\n",
              "      <td>-0.279597</td>\n",
              "    </tr>\n",
              "    <tr>\n",
              "      <th>1</th>\n",
              "      <td>2.476712</td>\n",
              "      <td>-0.856472</td>\n",
              "      <td>-0.846733</td>\n",
              "      <td>-0.916319</td>\n",
              "      <td>-0.620147</td>\n",
              "      <td>1.055651</td>\n",
              "      <td>-1.217079</td>\n",
              "      <td>-0.279597</td>\n",
              "    </tr>\n",
              "    <tr>\n",
              "      <th>2</th>\n",
              "      <td>0.491187</td>\n",
              "      <td>0.795140</td>\n",
              "      <td>-0.846733</td>\n",
              "      <td>2.174405</td>\n",
              "      <td>-1.038638</td>\n",
              "      <td>-0.526262</td>\n",
              "      <td>-2.239829</td>\n",
              "      <td>3.551340</td>\n",
              "    </tr>\n",
              "    <tr>\n",
              "      <th>3</th>\n",
              "      <td>0.491187</td>\n",
              "      <td>0.795140</td>\n",
              "      <td>-0.846733</td>\n",
              "      <td>2.174405</td>\n",
              "      <td>-1.038638</td>\n",
              "      <td>-0.526262</td>\n",
              "      <td>-2.239829</td>\n",
              "      <td>5.055221</td>\n",
              "    </tr>\n",
              "    <tr>\n",
              "      <th>4</th>\n",
              "      <td>-0.790075</td>\n",
              "      <td>0.678079</td>\n",
              "      <td>-0.846733</td>\n",
              "      <td>0.488555</td>\n",
              "      <td>-1.038638</td>\n",
              "      <td>0.070492</td>\n",
              "      <td>0.647569</td>\n",
              "      <td>4.976069</td>\n",
              "    </tr>\n",
              "  </tbody>\n",
              "</table>\n",
              "</div>"
            ],
            "text/plain": [
              "     Cement  Blast Furnace Slag  ...  Fine Aggregate       Age\n",
              "0  2.476712           -0.856472  ...       -1.217079 -0.279597\n",
              "1  2.476712           -0.856472  ...       -1.217079 -0.279597\n",
              "2  0.491187            0.795140  ...       -2.239829  3.551340\n",
              "3  0.491187            0.795140  ...       -2.239829  5.055221\n",
              "4 -0.790075            0.678079  ...        0.647569  4.976069\n",
              "\n",
              "[5 rows x 8 columns]"
            ]
          },
          "metadata": {
            "tags": []
          },
          "execution_count": 9
        }
      ]
    },
    {
      "cell_type": "markdown",
      "metadata": {
        "id": "nlNNpmfWI1Vk"
      },
      "source": [
        "Let's save the number of predictors to _n_cols_ since we will need this number when building our network.\n"
      ]
    },
    {
      "cell_type": "code",
      "metadata": {
        "button": false,
        "deletable": true,
        "new_sheet": false,
        "run_control": {
          "read_only": false
        },
        "id": "F9ZzO4hJI1Vq"
      },
      "source": [
        "n_cols = predictors_norm.shape[1] # number of predictors\n"
      ],
      "execution_count": 13,
      "outputs": []
    },
    {
      "cell_type": "code",
      "metadata": {
        "id": "AXhPeXAoKaa5",
        "outputId": "d952f9cc-58e0-4b18-bd28-55347ccda703",
        "colab": {
          "base_uri": "https://localhost:8080/",
          "height": 35
        }
      },
      "source": [
        "predictors_norm.shape[1]"
      ],
      "execution_count": 18,
      "outputs": [
        {
          "output_type": "execute_result",
          "data": {
            "text/plain": [
              "8"
            ]
          },
          "metadata": {
            "tags": []
          },
          "execution_count": 18
        }
      ]
    },
    {
      "cell_type": "markdown",
      "metadata": {
        "button": false,
        "deletable": true,
        "new_sheet": false,
        "run_control": {
          "read_only": false
        },
        "id": "roZS14sSI1Vy"
      },
      "source": [
        "<a id=\"item1\"></a>\n"
      ]
    },
    {
      "cell_type": "markdown",
      "metadata": {
        "id": "U_mP6eyxI1V3"
      },
      "source": [
        "<a id='item32'></a>\n"
      ]
    },
    {
      "cell_type": "markdown",
      "metadata": {
        "button": false,
        "deletable": true,
        "new_sheet": false,
        "run_control": {
          "read_only": false
        },
        "id": "_-xHQKgmI1V6"
      },
      "source": [
        "## Import Keras\n"
      ]
    },
    {
      "cell_type": "markdown",
      "metadata": {
        "button": false,
        "deletable": true,
        "new_sheet": false,
        "run_control": {
          "read_only": false
        },
        "id": "oQNheG_RI1V7"
      },
      "source": [
        "Recall from the videos that Keras normally runs on top of a low-level library such as TensorFlow. This means that to be able to use the Keras library, you will have to install TensorFlow first and when you import the Keras library, it will be explicitly displayed what backend was used to install the Keras library. In CC Labs, we used TensorFlow as the backend to install Keras, so it should clearly print that when we import Keras.\n"
      ]
    },
    {
      "cell_type": "markdown",
      "metadata": {
        "button": false,
        "deletable": true,
        "new_sheet": false,
        "run_control": {
          "read_only": false
        },
        "id": "_bRxgXsHI1V7"
      },
      "source": [
        "#### Let's go ahead and import the Keras library\n"
      ]
    },
    {
      "cell_type": "code",
      "metadata": {
        "button": false,
        "deletable": true,
        "new_sheet": false,
        "run_control": {
          "read_only": false
        },
        "id": "ZnTkds-cI1V-"
      },
      "source": [
        "import keras"
      ],
      "execution_count": 15,
      "outputs": []
    },
    {
      "cell_type": "markdown",
      "metadata": {
        "button": false,
        "deletable": true,
        "new_sheet": false,
        "run_control": {
          "read_only": false
        },
        "id": "DCEyxYgyI1WN"
      },
      "source": [
        "As you can see, the TensorFlow backend was used to install the Keras library.\n"
      ]
    },
    {
      "cell_type": "markdown",
      "metadata": {
        "button": false,
        "deletable": true,
        "new_sheet": false,
        "run_control": {
          "read_only": false
        },
        "id": "hc4Zc8FrI1WO"
      },
      "source": [
        "Let's import the rest of the packages from the Keras library that we will need to build our regressoin model.\n"
      ]
    },
    {
      "cell_type": "code",
      "metadata": {
        "button": false,
        "deletable": true,
        "new_sheet": false,
        "run_control": {
          "read_only": false
        },
        "id": "xLzWa1XWI1WP"
      },
      "source": [
        "from keras.models import Sequential\n",
        "from keras.layers import Dense"
      ],
      "execution_count": 16,
      "outputs": []
    },
    {
      "cell_type": "markdown",
      "metadata": {
        "id": "CD_Q7XwrI1Wa"
      },
      "source": [
        "<a id='item33'></a>\n"
      ]
    },
    {
      "cell_type": "markdown",
      "metadata": {
        "button": false,
        "deletable": true,
        "new_sheet": false,
        "run_control": {
          "read_only": false
        },
        "id": "FL49k07XI1Wb"
      },
      "source": [
        "## Build a Neural Network\n"
      ]
    },
    {
      "cell_type": "markdown",
      "metadata": {
        "button": false,
        "deletable": true,
        "new_sheet": false,
        "run_control": {
          "read_only": false
        },
        "id": "2mzm5aMWI1Wc"
      },
      "source": [
        "Let's define a function that defines our regression model for us so that we can conveniently call it to create our model.\n"
      ]
    },
    {
      "cell_type": "code",
      "metadata": {
        "button": false,
        "deletable": true,
        "new_sheet": false,
        "run_control": {
          "read_only": false
        },
        "id": "A2YYeunFI1We"
      },
      "source": [
        "# define regression model\n",
        "def regression_model():\n",
        "    # create model\n",
        "    model = Sequential()\n",
        "    model.add(Dense(50, activation='relu', input_shape=(n_cols,)))\n",
        "    model.add(Dense(50, activation='relu'))\n",
        "    model.add(Dense(1))\n",
        "    \n",
        "    # compile model\n",
        "    model.compile(optimizer='adam', loss='mean_squared_error')\n",
        "    return model"
      ],
      "execution_count": 19,
      "outputs": []
    },
    {
      "cell_type": "markdown",
      "metadata": {
        "id": "R5QyUjbkI1Wm"
      },
      "source": [
        "The above function create a model that has two hidden layers, each of 50 hidden units.\n"
      ]
    },
    {
      "cell_type": "markdown",
      "metadata": {
        "button": false,
        "deletable": true,
        "new_sheet": false,
        "run_control": {
          "read_only": false
        },
        "id": "TfjAl6PLI1Wm"
      },
      "source": [
        "<a id=\"item4\"></a>\n"
      ]
    },
    {
      "cell_type": "markdown",
      "metadata": {
        "id": "UcqfZHwVI1Wo"
      },
      "source": [
        "<a id='item34'></a>\n"
      ]
    },
    {
      "cell_type": "markdown",
      "metadata": {
        "button": false,
        "deletable": true,
        "new_sheet": false,
        "run_control": {
          "read_only": false
        },
        "id": "F5FYlJySI1Wo"
      },
      "source": [
        "## Train and Test the Network\n"
      ]
    },
    {
      "cell_type": "markdown",
      "metadata": {
        "id": "GDnUE2vsI1Ws"
      },
      "source": [
        "Let's call the function now to create our model.\n"
      ]
    },
    {
      "cell_type": "code",
      "metadata": {
        "button": false,
        "deletable": true,
        "new_sheet": false,
        "run_control": {
          "read_only": false
        },
        "id": "AGV2Zt_VI1Wt"
      },
      "source": [
        "# build the model\n",
        "model = regression_model()"
      ],
      "execution_count": 20,
      "outputs": []
    },
    {
      "cell_type": "markdown",
      "metadata": {
        "id": "8LZQvR9MI1Wy"
      },
      "source": [
        "Next, we will train and test the model at the same time using the _fit_ method. We will leave out 30% of the data for validation and we will train the model for 100 epochs.\n"
      ]
    },
    {
      "cell_type": "code",
      "metadata": {
        "id": "4ir3hSzDI1W0",
        "outputId": "547edacd-3843-4eae-ca33-9f75a5464489",
        "colab": {
          "base_uri": "https://localhost:8080/",
          "height": 1000
        }
      },
      "source": [
        "# fit the model\n",
        "model.fit(predictors_norm, target, validation_split=0.3, epochs=100, verbose=2)"
      ],
      "execution_count": 21,
      "outputs": [
        {
          "output_type": "stream",
          "text": [
            "Epoch 1/100\n",
            "23/23 - 0s - loss: 1631.9258 - val_loss: 1130.4609\n",
            "Epoch 2/100\n",
            "23/23 - 0s - loss: 1471.7384 - val_loss: 995.8207\n",
            "Epoch 3/100\n",
            "23/23 - 0s - loss: 1225.7286 - val_loss: 789.5577\n",
            "Epoch 4/100\n",
            "23/23 - 0s - loss: 880.2049 - val_loss: 535.4565\n",
            "Epoch 5/100\n",
            "23/23 - 0s - loss: 528.4728 - val_loss: 309.5534\n",
            "Epoch 6/100\n",
            "23/23 - 0s - loss: 317.3450 - val_loss: 199.7175\n",
            "Epoch 7/100\n",
            "23/23 - 0s - loss: 254.4377 - val_loss: 177.8964\n",
            "Epoch 8/100\n",
            "23/23 - 0s - loss: 234.3788 - val_loss: 178.8917\n",
            "Epoch 9/100\n",
            "23/23 - 0s - loss: 218.4080 - val_loss: 174.9349\n",
            "Epoch 10/100\n",
            "23/23 - 0s - loss: 206.9923 - val_loss: 169.6253\n",
            "Epoch 11/100\n",
            "23/23 - 0s - loss: 198.5508 - val_loss: 168.5111\n",
            "Epoch 12/100\n",
            "23/23 - 0s - loss: 190.4383 - val_loss: 164.5788\n",
            "Epoch 13/100\n",
            "23/23 - 0s - loss: 183.8127 - val_loss: 162.2692\n",
            "Epoch 14/100\n",
            "23/23 - 0s - loss: 178.8378 - val_loss: 160.8193\n",
            "Epoch 15/100\n",
            "23/23 - 0s - loss: 174.3193 - val_loss: 156.8900\n",
            "Epoch 16/100\n",
            "23/23 - 0s - loss: 169.7286 - val_loss: 154.7080\n",
            "Epoch 17/100\n",
            "23/23 - 0s - loss: 165.8656 - val_loss: 154.3103\n",
            "Epoch 18/100\n",
            "23/23 - 0s - loss: 161.9659 - val_loss: 151.5854\n",
            "Epoch 19/100\n",
            "23/23 - 0s - loss: 158.8476 - val_loss: 150.3982\n",
            "Epoch 20/100\n",
            "23/23 - 0s - loss: 156.6384 - val_loss: 149.9973\n",
            "Epoch 21/100\n",
            "23/23 - 0s - loss: 153.3626 - val_loss: 151.1255\n",
            "Epoch 22/100\n",
            "23/23 - 0s - loss: 150.9029 - val_loss: 148.1710\n",
            "Epoch 23/100\n",
            "23/23 - 0s - loss: 149.1649 - val_loss: 144.5916\n",
            "Epoch 24/100\n",
            "23/23 - 0s - loss: 147.4055 - val_loss: 148.5357\n",
            "Epoch 25/100\n",
            "23/23 - 0s - loss: 145.1441 - val_loss: 146.1499\n",
            "Epoch 26/100\n",
            "23/23 - 0s - loss: 143.6573 - val_loss: 143.2489\n",
            "Epoch 27/100\n",
            "23/23 - 0s - loss: 142.5387 - val_loss: 144.7031\n",
            "Epoch 28/100\n",
            "23/23 - 0s - loss: 141.3046 - val_loss: 143.1823\n",
            "Epoch 29/100\n",
            "23/23 - 0s - loss: 139.2595 - val_loss: 143.3694\n",
            "Epoch 30/100\n",
            "23/23 - 0s - loss: 138.0574 - val_loss: 141.7885\n",
            "Epoch 31/100\n",
            "23/23 - 0s - loss: 137.3150 - val_loss: 142.9785\n",
            "Epoch 32/100\n",
            "23/23 - 0s - loss: 135.5680 - val_loss: 140.6063\n",
            "Epoch 33/100\n",
            "23/23 - 0s - loss: 134.5296 - val_loss: 143.6110\n",
            "Epoch 34/100\n",
            "23/23 - 0s - loss: 133.3552 - val_loss: 140.9783\n",
            "Epoch 35/100\n",
            "23/23 - 0s - loss: 131.7705 - val_loss: 141.9889\n",
            "Epoch 36/100\n",
            "23/23 - 0s - loss: 130.3157 - val_loss: 141.4829\n",
            "Epoch 37/100\n",
            "23/23 - 0s - loss: 129.3115 - val_loss: 141.0242\n",
            "Epoch 38/100\n",
            "23/23 - 0s - loss: 128.2548 - val_loss: 138.6571\n",
            "Epoch 39/100\n",
            "23/23 - 0s - loss: 127.2351 - val_loss: 141.3203\n",
            "Epoch 40/100\n",
            "23/23 - 0s - loss: 125.6550 - val_loss: 139.5117\n",
            "Epoch 41/100\n",
            "23/23 - 0s - loss: 124.8950 - val_loss: 140.2535\n",
            "Epoch 42/100\n",
            "23/23 - 0s - loss: 123.3057 - val_loss: 140.3736\n",
            "Epoch 43/100\n",
            "23/23 - 0s - loss: 123.2089 - val_loss: 140.9418\n",
            "Epoch 44/100\n",
            "23/23 - 0s - loss: 121.4346 - val_loss: 139.2493\n",
            "Epoch 45/100\n",
            "23/23 - 0s - loss: 120.4015 - val_loss: 138.3153\n",
            "Epoch 46/100\n",
            "23/23 - 0s - loss: 118.9964 - val_loss: 138.8102\n",
            "Epoch 47/100\n",
            "23/23 - 0s - loss: 118.5353 - val_loss: 136.3408\n",
            "Epoch 48/100\n",
            "23/23 - 0s - loss: 116.8028 - val_loss: 140.3009\n",
            "Epoch 49/100\n",
            "23/23 - 0s - loss: 115.0928 - val_loss: 136.4175\n",
            "Epoch 50/100\n",
            "23/23 - 0s - loss: 114.1953 - val_loss: 135.5648\n",
            "Epoch 51/100\n",
            "23/23 - 0s - loss: 113.3372 - val_loss: 137.6662\n",
            "Epoch 52/100\n",
            "23/23 - 0s - loss: 112.1468 - val_loss: 135.9745\n",
            "Epoch 53/100\n",
            "23/23 - 0s - loss: 110.2722 - val_loss: 136.6194\n",
            "Epoch 54/100\n",
            "23/23 - 0s - loss: 108.6294 - val_loss: 132.4106\n",
            "Epoch 55/100\n",
            "23/23 - 0s - loss: 107.3188 - val_loss: 133.2428\n",
            "Epoch 56/100\n",
            "23/23 - 0s - loss: 105.9150 - val_loss: 134.7626\n",
            "Epoch 57/100\n",
            "23/23 - 0s - loss: 104.7462 - val_loss: 133.5165\n",
            "Epoch 58/100\n",
            "23/23 - 0s - loss: 103.3916 - val_loss: 134.3082\n",
            "Epoch 59/100\n",
            "23/23 - 0s - loss: 102.1479 - val_loss: 132.6126\n",
            "Epoch 60/100\n",
            "23/23 - 0s - loss: 100.8265 - val_loss: 128.9250\n",
            "Epoch 61/100\n",
            "23/23 - 0s - loss: 99.5753 - val_loss: 135.1589\n",
            "Epoch 62/100\n",
            "23/23 - 0s - loss: 97.9589 - val_loss: 130.1215\n",
            "Epoch 63/100\n",
            "23/23 - 0s - loss: 96.3410 - val_loss: 131.7003\n",
            "Epoch 64/100\n",
            "23/23 - 0s - loss: 95.1172 - val_loss: 132.7631\n",
            "Epoch 65/100\n",
            "23/23 - 0s - loss: 94.0511 - val_loss: 128.9085\n",
            "Epoch 66/100\n",
            "23/23 - 0s - loss: 92.0879 - val_loss: 128.6138\n",
            "Epoch 67/100\n",
            "23/23 - 0s - loss: 90.2394 - val_loss: 124.5768\n",
            "Epoch 68/100\n",
            "23/23 - 0s - loss: 88.7665 - val_loss: 125.8812\n",
            "Epoch 69/100\n",
            "23/23 - 0s - loss: 87.3695 - val_loss: 124.2257\n",
            "Epoch 70/100\n",
            "23/23 - 0s - loss: 86.5426 - val_loss: 125.5416\n",
            "Epoch 71/100\n",
            "23/23 - 0s - loss: 85.2909 - val_loss: 122.8737\n",
            "Epoch 72/100\n",
            "23/23 - 0s - loss: 83.2940 - val_loss: 121.4732\n",
            "Epoch 73/100\n",
            "23/23 - 0s - loss: 81.5385 - val_loss: 121.2096\n",
            "Epoch 74/100\n",
            "23/23 - 0s - loss: 80.1011 - val_loss: 121.8321\n",
            "Epoch 75/100\n",
            "23/23 - 0s - loss: 78.3293 - val_loss: 122.4714\n",
            "Epoch 76/100\n",
            "23/23 - 0s - loss: 77.2371 - val_loss: 121.7752\n",
            "Epoch 77/100\n",
            "23/23 - 0s - loss: 75.4420 - val_loss: 121.0386\n",
            "Epoch 78/100\n",
            "23/23 - 0s - loss: 73.6235 - val_loss: 125.4362\n",
            "Epoch 79/100\n",
            "23/23 - 0s - loss: 71.9565 - val_loss: 125.6462\n",
            "Epoch 80/100\n",
            "23/23 - 0s - loss: 69.9640 - val_loss: 118.9154\n",
            "Epoch 81/100\n",
            "23/23 - 0s - loss: 68.7125 - val_loss: 131.5577\n",
            "Epoch 82/100\n",
            "23/23 - 0s - loss: 67.3590 - val_loss: 122.3241\n",
            "Epoch 83/100\n",
            "23/23 - 0s - loss: 65.6839 - val_loss: 128.2880\n",
            "Epoch 84/100\n",
            "23/23 - 0s - loss: 64.1939 - val_loss: 121.2480\n",
            "Epoch 85/100\n",
            "23/23 - 0s - loss: 63.2654 - val_loss: 126.1111\n",
            "Epoch 86/100\n",
            "23/23 - 0s - loss: 62.3376 - val_loss: 125.3157\n",
            "Epoch 87/100\n",
            "23/23 - 0s - loss: 60.3792 - val_loss: 126.2058\n",
            "Epoch 88/100\n",
            "23/23 - 0s - loss: 59.5304 - val_loss: 123.2918\n",
            "Epoch 89/100\n",
            "23/23 - 0s - loss: 58.4127 - val_loss: 123.8963\n",
            "Epoch 90/100\n",
            "23/23 - 0s - loss: 57.2157 - val_loss: 125.6579\n",
            "Epoch 91/100\n",
            "23/23 - 0s - loss: 56.0922 - val_loss: 126.4340\n",
            "Epoch 92/100\n",
            "23/23 - 0s - loss: 55.0733 - val_loss: 123.3495\n",
            "Epoch 93/100\n",
            "23/23 - 0s - loss: 53.7615 - val_loss: 128.2898\n",
            "Epoch 94/100\n",
            "23/23 - 0s - loss: 53.7557 - val_loss: 124.0684\n",
            "Epoch 95/100\n",
            "23/23 - 0s - loss: 52.4762 - val_loss: 123.7599\n",
            "Epoch 96/100\n",
            "23/23 - 0s - loss: 50.9198 - val_loss: 130.6644\n",
            "Epoch 97/100\n",
            "23/23 - 0s - loss: 50.2188 - val_loss: 120.4356\n",
            "Epoch 98/100\n",
            "23/23 - 0s - loss: 50.0375 - val_loss: 126.9292\n",
            "Epoch 99/100\n",
            "23/23 - 0s - loss: 48.7618 - val_loss: 125.6888\n",
            "Epoch 100/100\n",
            "23/23 - 0s - loss: 47.7534 - val_loss: 121.4365\n"
          ],
          "name": "stdout"
        },
        {
          "output_type": "execute_result",
          "data": {
            "text/plain": [
              "<tensorflow.python.keras.callbacks.History at 0x7fcf8954f6a0>"
            ]
          },
          "metadata": {
            "tags": []
          },
          "execution_count": 21
        }
      ]
    },
    {
      "cell_type": "markdown",
      "metadata": {
        "button": false,
        "deletable": true,
        "new_sheet": false,
        "run_control": {
          "read_only": false
        },
        "id": "VvJZjeREI1W7"
      },
      "source": [
        "<strong>You can refer to this [link](https://keras.io/models/sequential?cm_mmc=Email_Newsletter-_-Developer_Ed%2BTech-_-WW_WW-_-SkillsNetwork-Courses-IBMDeveloperSkillsNetwork-DL0101EN-SkillsNetwork-20718188&cm_mmca1=000026UJ&cm_mmca2=10006555&cm_mmca3=M12345678&cvosrc=email.Newsletter.M12345678&cvo_campaign=000026UJ&cm_mmc=Email_Newsletter-_-Developer_Ed%2BTech-_-WW_WW-_-SkillsNetwork-Courses-IBMDeveloperSkillsNetwork-DL0101EN-SkillsNetwork-20718188&cm_mmca1=000026UJ&cm_mmca2=10006555&cm_mmca3=M12345678&cvosrc=email.Newsletter.M12345678&cvo_campaign=000026UJ&cm_mmc=Email_Newsletter-_-Developer_Ed%2BTech-_-WW_WW-_-SkillsNetwork-Courses-IBMDeveloperSkillsNetwork-DL0101EN-SkillsNetwork-20718188&cm_mmca1=000026UJ&cm_mmca2=10006555&cm_mmca3=M12345678&cvosrc=email.Newsletter.M12345678&cvo_campaign=000026UJ) to learn about other functions that you can use for prediction or evaluation.</strong>\n"
      ]
    },
    {
      "cell_type": "markdown",
      "metadata": {
        "button": false,
        "deletable": true,
        "new_sheet": false,
        "run_control": {
          "read_only": false
        },
        "id": "7isjCBWKI1W8"
      },
      "source": [
        "Feel free to vary the following and note what impact each change has on the model's performance:\n",
        "\n",
        "1.  Increase or decreate number of neurons in hidden layers\n",
        "2.  Add more hidden layers\n",
        "3.  Increase number of epochs\n"
      ]
    },
    {
      "cell_type": "markdown",
      "metadata": {
        "button": false,
        "deletable": true,
        "new_sheet": false,
        "run_control": {
          "read_only": false
        },
        "id": "lTYNkcjMI1W-"
      },
      "source": [
        "### Thank you for completing this lab!\n",
        "\n",
        "This notebook was created by [Alex Aklson](https://www.linkedin.com/in/aklson?cm_mmc=Email_Newsletter-_-Developer_Ed%2BTech-_-WW_WW-_-SkillsNetwork-Courses-IBMDeveloperSkillsNetwork-DL0101EN-SkillsNetwork-20718188&cm_mmca1=000026UJ&cm_mmca2=10006555&cm_mmca3=M12345678&cvosrc=email.Newsletter.M12345678&cvo_campaign=000026UJ&cm_mmc=Email_Newsletter-_-Developer_Ed%2BTech-_-WW_WW-_-SkillsNetwork-Courses-IBMDeveloperSkillsNetwork-DL0101EN-SkillsNetwork-20718188&cm_mmca1=000026UJ&cm_mmca2=10006555&cm_mmca3=M12345678&cvosrc=email.Newsletter.M12345678&cvo_campaign=000026UJ). I hope you found this lab interesting and educational. Feel free to contact me if you have any questions!\n"
      ]
    },
    {
      "cell_type": "markdown",
      "metadata": {
        "id": "pHanHvQ2I1W_"
      },
      "source": [
        "## Change Log\n",
        "\n",
        "| Date (YYYY-MM-DD) | Version | Changed By | Change Description                                          |\n",
        "| ----------------- | ------- | ---------- | ----------------------------------------------------------- |\n",
        "| 2020-09-21        | 2.0     | Srishti    | Migrated Lab to Markdown and added to course repo in GitLab |\n",
        "\n",
        "<hr>\n",
        "\n",
        "## <h3 align=\"center\"> © IBM Corporation 2020. All rights reserved. <h3/>\n"
      ]
    },
    {
      "cell_type": "markdown",
      "metadata": {
        "button": false,
        "deletable": true,
        "new_sheet": false,
        "run_control": {
          "read_only": false
        },
        "id": "wNXCCLEaI1XA"
      },
      "source": [
        "This notebook is part of a course on **Coursera** called _Introduction to Deep Learning & Neural Networks with Keras_. If you accessed this notebook outside the course, you can take this course online by clicking [here](https://cocl.us/DL0101EN_Coursera_Week3_LAB1).\n"
      ]
    },
    {
      "cell_type": "markdown",
      "metadata": {
        "button": false,
        "deletable": true,
        "new_sheet": false,
        "run_control": {
          "read_only": false
        },
        "id": "jkcKpeXiI1XA"
      },
      "source": [
        "<hr>\n",
        "\n",
        "Copyright © 2019 [IBM Developer Skills Network](https://cognitiveclass.ai?utm_source=bducopyrightlink&utm_medium=dswb&utm_campaign=bdu&cm_mmc=Email_Newsletter-_-Developer_Ed%2BTech-_-WW_WW-_-SkillsNetwork-Courses-IBMDeveloperSkillsNetwork-DL0101EN-SkillsNetwork-20718188&cm_mmca1=000026UJ&cm_mmca2=10006555&cm_mmca3=M12345678&cvosrc=email.Newsletter.M12345678&cvo_campaign=000026UJ&cm_mmc=Email_Newsletter-_-Developer_Ed%2BTech-_-WW_WW-_-SkillsNetwork-Courses-IBMDeveloperSkillsNetwork-DL0101EN-SkillsNetwork-20718188&cm_mmca1=000026UJ&cm_mmca2=10006555&cm_mmca3=M12345678&cvosrc=email.Newsletter.M12345678&cvo_campaign=000026UJ&cm_mmc=Email_Newsletter-_-Developer_Ed%2BTech-_-WW_WW-_-SkillsNetwork-Courses-IBMDeveloperSkillsNetwork-DL0101EN-SkillsNetwork-20718188&cm_mmca1=000026UJ&cm_mmca2=10006555&cm_mmca3=M12345678&cvosrc=email.Newsletter.M12345678&cvo_campaign=000026UJ&cm_mmc=Email_Newsletter-_-Developer_Ed%2BTech-_-WW_WW-_-SkillsNetwork-Courses-IBMDeveloperSkillsNetwork-DL0101EN-SkillsNetwork-20718188&cm_mmca1=000026UJ&cm_mmca2=10006555&cm_mmca3=M12345678&cvosrc=email.Newsletter.M12345678&cvo_campaign=000026UJ). This notebook and its source code are released under the terms of the [MIT License](https://bigdatauniversity.com/mit-license?cm_mmc=Email_Newsletter-_-Developer_Ed%2BTech-_-WW_WW-_-SkillsNetwork-Courses-IBMDeveloperSkillsNetwork-DL0101EN-SkillsNetwork-20718188&cm_mmca1=000026UJ&cm_mmca2=10006555&cm_mmca3=M12345678&cvosrc=email.Newsletter.M12345678&cvo_campaign=000026UJ&cm_mmc=Email_Newsletter-_-Developer_Ed%2BTech-_-WW_WW-_-SkillsNetwork-Courses-IBMDeveloperSkillsNetwork-DL0101EN-SkillsNetwork-20718188&cm_mmca1=000026UJ&cm_mmca2=10006555&cm_mmca3=M12345678&cvosrc=email.Newsletter.M12345678&cvo_campaign=000026UJ).\n"
      ]
    }
  ]
}